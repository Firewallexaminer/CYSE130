{
 "cells": [
  {
   "cell_type": "code",
   "execution_count": 9,
   "metadata": {},
   "outputs": [
    {
     "name": "stdout",
     "output_type": "stream",
     "text": [
      "^C\n",
      "Note: you may need to restart the kernel to use updated packages.\n"
     ]
    }
   ],
   "source": [
    "pip install github"
   ]
  },
  {
   "cell_type": "code",
   "execution_count": 5,
   "metadata": {},
   "outputs": [
    {
     "name": "stdout",
     "output_type": "stream",
     "text": [
      "CPU Usage: 92.9%\n"
     ]
    },
    {
     "ename": "NameError",
     "evalue": "name 'log' is not defined",
     "output_type": "error",
     "traceback": [
      "\u001b[1;31m---------------------------------------------------------------------------\u001b[0m",
      "\u001b[1;31mNameError\u001b[0m                                 Traceback (most recent call last)",
      "Cell \u001b[1;32mIn[5], line 16\u001b[0m\n\u001b[0;32m     14\u001b[0m     cpu_percent \u001b[38;5;241m=\u001b[39m psutil\u001b[38;5;241m.\u001b[39mcpu_percent(interval\u001b[38;5;241m=\u001b[39m\u001b[38;5;241m.1\u001b[39m)\n\u001b[0;32m     15\u001b[0m     \u001b[38;5;28mprint\u001b[39m(\u001b[38;5;124mf\u001b[39m\u001b[38;5;124m\"\u001b[39m\u001b[38;5;124mCPU Usage: \u001b[39m\u001b[38;5;132;01m{\u001b[39;00mcpu_percent\u001b[38;5;132;01m}\u001b[39;00m\u001b[38;5;124m%\u001b[39m\u001b[38;5;124m\"\u001b[39m)\n\u001b[1;32m---> 16\u001b[0m     \u001b[43mlog\u001b[49m\u001b[38;5;241m.\u001b[39mappend(cpu_percent)\n\u001b[0;32m     17\u001b[0m df\u001b[38;5;241m.\u001b[39mto_csv(\u001b[38;5;124m'\u001b[39m\u001b[38;5;124mcpu_log.csv\u001b[39m\u001b[38;5;124m'\u001b[39m, index\u001b[38;5;241m=\u001b[39m\u001b[38;5;28;01mFalse\u001b[39;00m)\n\u001b[0;32m     18\u001b[0m df\u001b[38;5;241m.\u001b[39mto_json(\u001b[38;5;124m'\u001b[39m\u001b[38;5;124mcpu_log.json\u001b[39m\u001b[38;5;124m'\u001b[39m)\n",
      "\u001b[1;31mNameError\u001b[0m: name 'log' is not defined"
     ]
    }
   ],
   "source": [
    "#For Nate\n",
    "#replace 'your_username' and 'your_password' with username and password to github\n",
    "#This should export a file with the cpu log in it (I hope)\n",
    "#I didnt want to test this since I would have to enter my username and password and I am in a public space\n",
    "#If you have issues I can try doing this myself in a private space later in the week\n",
    "\n",
    "import psutil\n",
    "import time\n",
    "import pandas as pd\n",
    "#from github import Github\n",
    "\n",
    "cpu_log = []\n",
    "for x in range(100):\n",
    "    cpu_percent = psutil.cpu_percent(interval=.1)\n",
    "    print(f\"CPU Usage: {cpu_percent}%\")\n",
    "    log.append(cpu_percent)\n",
    "df.to_csv('cpu_log.csv', index=False)\n",
    "df.to_json('cpu_log.json')\n",
    "\n",
    "#g=Github('your_username', 'your_password')\n",
    "#repo = g.get_user().get_repo('CYSE130')\n",
    "#with open('cpu_log.csv', 'rb') as file:\n",
    "#    repo_create_file('cpu_log.csv', 'Comit message', file.read())"
   ]
  }
 ],
 "metadata": {
  "kernelspec": {
   "display_name": "Python 3",
   "language": "python",
   "name": "python3"
  },
  "language_info": {
   "codemirror_mode": {
    "name": "ipython",
    "version": 3
   },
   "file_extension": ".py",
   "mimetype": "text/x-python",
   "name": "python",
   "nbconvert_exporter": "python",
   "pygments_lexer": "ipython3",
   "version": "3.12.7"
  }
 },
 "nbformat": 4,
 "nbformat_minor": 2
}
