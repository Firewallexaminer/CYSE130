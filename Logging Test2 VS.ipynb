{
 "cells": [
  {
   "cell_type": "code",
   "execution_count": null,
   "metadata": {},
   "outputs": [],
   "source": [
    "#For Nate\n",
    "#replace 'your_username' and 'your_password' with username and password to github\n",
    "#This should export a file with the cpu log in it (I hope)\n",
    "#I didnt want to test this since I would have to enter my username and password and I am in a public space\n",
    "#If you have issues I can try doing this myself in a private space later in the week\n",
    "\n",
    "import psutil\n",
    "import time\n",
    "import pandas as pd\n",
    "from github import Github\n",
    "\n",
    "cpu_log = []\n",
    "for x in range(100):\n",
    "    cpu_percent = psutil.cpu_percent(interval=.1)\n",
    "    print(f\"CPU Usage: {cpu_percent}%\")\n",
    "    log.append(cpu_percent)\n",
    "df.to_csv('cpu_log.csv', index=False)\n",
    "df.to_json('cpu_log.json')\n",
    "\n",
    "g=Github('your_username', 'your_password')\n",
    "repo = g.get_user().get_repo('CYSE130')\n",
    "with open('cpu_log.csv', 'rb') as file:\n",
    "    repo_create_file('cpu_log.csv', 'Comit message', file.read())"
   ]
  }
 ],
 "metadata": {
  "kernelspec": {
   "display_name": "Python 3",
   "language": "python",
   "name": "python3"
  },
  "language_info": {
   "codemirror_mode": {
    "name": "ipython",
    "version": 3
   },
   "file_extension": ".py",
   "mimetype": "text/x-python",
   "name": "python",
   "nbconvert_exporter": "python",
   "pygments_lexer": "ipython3",
   "version": "3.12.7"
  }
 },
 "nbformat": 4,
 "nbformat_minor": 2
}
